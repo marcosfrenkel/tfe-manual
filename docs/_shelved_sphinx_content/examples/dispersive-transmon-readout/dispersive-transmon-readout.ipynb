{
 "cells": [
  {
   "cell_type": "markdown",
   "id": "66ca0f63-0e18-4b82-916f-2cd62de17318",
   "metadata": {},
   "source": [
    "# Example: autoplot-app and dispersive transmon readout data"
   ]
  },
  {
   "cell_type": "markdown",
   "id": "2ea144df-555e-4ee6-b571-86e052d6ebc4",
   "metadata": {},
   "source": [
    "A typical example from the field of superconducting qubits:\n",
    "We perform Rabi oscillations on a transmon (or other) qubit, and measure it for a set of rotation angles dispersively using a resonator.\n",
    "The resulting data is complex -- each of the two qubit states results in a different (noisy) heterodyne signal.\n",
    "After integrating this signal in time we are left we complex data points, the amplitude and phase of which encode the detected qubit state.\n",
    "\n",
    "In the following we will:\n",
    "\n",
    "* generate some fake readout data\n",
    "* use the autoplot app interactively (for instance from a jupyterlab notebook) to inspect it\n",
    "* look at the complex histograms of the readout"
   ]
  },
  {
   "cell_type": "markdown",
   "id": "38c3c779-da85-4dfb-b599-298b8dea4b68",
   "metadata": {},
   "source": [
    "## Making and visualizing the data"
   ]
  },
  {
   "cell_type": "markdown",
   "id": "d2968c0c-3e23-4e71-8fda-cf130f9e6d76",
   "metadata": {},
   "source": [
    "With the GUI magic we can run Qt programs from within jupyter. \n",
    "The GUI elements of plottr are all written in Qt, so this is required for interactive use in notebooks."
   ]
  },
  {
   "cell_type": "code",
   "execution_count": 1,
   "id": "94080f1e-f87a-425a-bbc0-82ba5b4a740c",
   "metadata": {},
   "outputs": [],
   "source": [
    "%gui qt"
   ]
  },
  {
   "cell_type": "markdown",
   "id": "9860b578-bdda-4856-bf45-e768604fd62d",
   "metadata": {},
   "source": [
    "Some imports:\n",
    "\n",
    ":func:`plottr.utils.testdata.dispersive_qubit_readout.angle_data` produces fake qubit readout data with statistical noise given a rotation angle"
   ]
  },
  {
   "cell_type": "code",
   "execution_count": 2,
   "id": "176b30ef-f979-4056-837f-c112ddad2e9c",
   "metadata": {},
   "outputs": [],
   "source": [
    "import numpy as np\n",
    "\n",
    "from plottr.utils.testdata.dispersive_qubit_readout import angle_data\n",
    "from plottr.plot.pyqtgraph.autoplot import AutoPlot as PGAutoPlot\n",
    "from plottr.data.datadict import str2dd\n",
    "from plottr.apps.autoplot import autoplot"
   ]
  },
  {
   "cell_type": "code",
   "execution_count": 3,
   "id": "3810b21a-3d40-4038-a36d-2760e79d63b2",
   "metadata": {},
   "outputs": [],
   "source": [
    "data = str2dd(\"signal[](rotation_angle[rad], repetition)\")\n",
    "\n",
    "for theta in np.linspace(0, 4*np.pi, 17):\n",
    "    readout_data = angle_data(theta)\n",
    "    repetitions = np.arange(readout_data.size)\n",
    "    \n",
    "    data.add_data(\n",
    "        rotation_angle=theta,\n",
    "        repetition=repetitions,\n",
    "        signal=angle_data(theta)\n",
    "    )"
   ]
  },
  {
   "cell_type": "code",
   "execution_count": 4,
   "id": "207a6f7f-c9f7-4ea4-9594-99bfb6851902",
   "metadata": {},
   "outputs": [],
   "source": [
    "flowchart, dialog = autoplot(\n",
    "    data, \n",
    "    plotWidgetClass=PGAutoPlot\n",
    ")"
   ]
  },
  {
   "cell_type": "code",
   "execution_count": null,
   "id": "db0300bb-daa6-471f-82c6-267caeb4b409",
   "metadata": {},
   "outputs": [],
   "source": []
  }
 ],
 "metadata": {
  "kernelspec": {
   "display_name": "Python [conda env:msmt-pyqt5]",
   "language": "python",
   "name": "conda-env-msmt-pyqt5-py"
  },
  "language_info": {
   "codemirror_mode": {
    "name": "ipython",
    "version": 3
   },
   "file_extension": ".py",
   "mimetype": "text/x-python",
   "name": "python",
   "nbconvert_exporter": "python",
   "pygments_lexer": "ipython3",
   "version": "3.9.6"
  },
  "toc-autonumbering": false
 },
 "nbformat": 4,
 "nbformat_minor": 5
}
